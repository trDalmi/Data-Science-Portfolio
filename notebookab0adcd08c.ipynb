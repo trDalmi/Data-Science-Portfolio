{
  "metadata": {
    "kernelspec": {
      "language": "python",
      "display_name": "Python 3",
      "name": "python3"
    },
    "language_info": {
      "name": "python",
      "version": "3.10.12",
      "mimetype": "text/x-python",
      "codemirror_mode": {
        "name": "ipython",
        "version": 3
      },
      "pygments_lexer": "ipython3",
      "nbconvert_exporter": "python",
      "file_extension": ".py"
    },
    "kaggle": {
      "accelerator": "none",
      "dataSources": [
        {
          "sourceId": 10988900,
          "sourceType": "datasetVersion",
          "datasetId": 6839562
        }
      ],
      "dockerImageVersionId": 30918,
      "isInternetEnabled": false,
      "language": "python",
      "sourceType": "notebook",
      "isGpuEnabled": false
    },
    "colab": {
      "name": "notebookab0adcd08c",
      "provenance": [],
      "include_colab_link": true
    }
  },
  "nbformat_minor": 0,
  "nbformat": 4,
  "cells": [
    {
      "cell_type": "markdown",
      "metadata": {
        "id": "view-in-github",
        "colab_type": "text"
      },
      "source": [
        "<a href=\"https://colab.research.google.com/github/trDalmi/Data-Science-Portfolio/blob/main/notebookab0adcd08c.ipynb\" target=\"_parent\"><img src=\"https://colab.research.google.com/assets/colab-badge.svg\" alt=\"Open In Colab\"/></a>"
      ]
    },
    {
      "source": [
        "# IMPORTANT: SOME KAGGLE DATA SOURCES ARE PRIVATE\n",
        "# RUN THIS CELL IN ORDER TO IMPORT YOUR KAGGLE DATA SOURCES.\n",
        "import kagglehub\n",
        "kagglehub.login()\n"
      ],
      "metadata": {
        "id": "dN1BM14azU41"
      },
      "cell_type": "code",
      "outputs": [],
      "execution_count": null
    },
    {
      "source": [
        "# IMPORTANT: RUN THIS CELL IN ORDER TO IMPORT YOUR KAGGLE DATA SOURCES,\n",
        "# THEN FEEL FREE TO DELETE THIS CELL.\n",
        "# NOTE: THIS NOTEBOOK ENVIRONMENT DIFFERS FROM KAGGLE'S PYTHON\n",
        "# ENVIRONMENT SO THERE MAY BE MISSING LIBRARIES USED BY YOUR\n",
        "# NOTEBOOK.\n",
        "\n",
        "anzotr5_detecting_lane_path = kagglehub.dataset_download('anzotr5/detecting-lane')\n",
        "\n",
        "print('Data source import complete.')\n"
      ],
      "metadata": {
        "id": "LcE2VNIkzU45"
      },
      "cell_type": "code",
      "outputs": [],
      "execution_count": null
    },
    {
      "cell_type": "code",
      "source": [
        "# This Python 3 environment comes with many helpful analytics libraries installed\n",
        "# It is defined by the kaggle/python Docker image: https://github.com/kaggle/docker-python\n",
        "# For example, here's several helpful packages to load\n",
        "\n",
        "import numpy as np # linear algebra\n",
        "import pandas as pd # data processing, CSV file I/O (e.g. pd.read_csv)\n",
        "\n",
        "# Input data files are available in the read-only \"../input/\" directory\n",
        "# For example, running this (by clicking run or pressing Shift+Enter) will list all files under the input directory\n",
        "\n",
        "import os\n",
        "for dirname, _, filenames in os.walk('/kaggle/input'):\n",
        "    for filename in filenames:\n",
        "        print(os.path.join(dirname, filename))\n",
        "\n",
        "# You can write up to 20GB to the current directory (/kaggle/working/) that gets preserved as output when you create a version using \"Save & Run All\"\n",
        "# You can also write temporary files to /kaggle/temp/, but they won't be saved outside of the current session"
      ],
      "metadata": {
        "_uuid": "8f2839f25d086af736a60e9eeb907d3b93b6e0e5",
        "_cell_guid": "b1076dfc-b9ad-4769-8c92-a6c4dae69d19",
        "trusted": true,
        "execution": {
          "iopub.status.busy": "2025-03-11T06:02:24.705892Z",
          "iopub.execute_input": "2025-03-11T06:02:24.706264Z",
          "iopub.status.idle": "2025-03-11T06:02:25.12351Z",
          "shell.execute_reply.started": "2025-03-11T06:02:24.706235Z",
          "shell.execute_reply": "2025-03-11T06:02:25.122266Z"
        },
        "id": "v0fYAeZZzU46",
        "outputId": "8e73e278-be20-414f-d4fc-13f85a2cca03"
      },
      "outputs": [
        {
          "name": "stdout",
          "text": "/kaggle/input/detecting-lane/192357-892475199_small.mp4\n/kaggle/input/detecting-lane/test2.mp4\n",
          "output_type": "stream"
        }
      ],
      "execution_count": null
    },
    {
      "cell_type": "code",
      "source": [
        "import cv2"
      ],
      "metadata": {
        "trusted": true,
        "execution": {
          "iopub.status.busy": "2025-03-11T06:02:26.457649Z",
          "iopub.execute_input": "2025-03-11T06:02:26.458204Z",
          "iopub.status.idle": "2025-03-11T06:02:26.512356Z",
          "shell.execute_reply.started": "2025-03-11T06:02:26.458168Z",
          "shell.execute_reply": "2025-03-11T06:02:26.511329Z"
        },
        "id": "m3zbA2-7zU47"
      },
      "outputs": [],
      "execution_count": null
    },
    {
      "cell_type": "code",
      "source": [
        "def canny(img):\n",
        "  gray =cv2.cvtColor(img,cv2.COLOR_RGB2GRAY)\n",
        "  kernel = 5\n",
        "  blur = cv2.GaussianBlur(gray,(kernel,kernel),0)\n",
        "  canny = cv2.Canny(gray,50,150)\n",
        "  return canny"
      ],
      "metadata": {
        "trusted": true,
        "execution": {
          "iopub.status.busy": "2025-03-11T06:02:28.171507Z",
          "iopub.execute_input": "2025-03-11T06:02:28.171873Z",
          "iopub.status.idle": "2025-03-11T06:02:28.177159Z",
          "shell.execute_reply.started": "2025-03-11T06:02:28.171844Z",
          "shell.execute_reply": "2025-03-11T06:02:28.175832Z"
        },
        "id": "t75MdyByzU48"
      },
      "outputs": [],
      "execution_count": null
    },
    {
      "cell_type": "code",
      "source": [
        "def region_of_intererst(image):\n",
        "  height = image.shape[0]\n",
        "  polygons = np.array([[(200,height),(1100,height),(550,250)]])\n",
        "  mask = np.zeros_like(image)           # full filled black sheet of img np.size\n",
        "  cv2.fillPoly(mask,np.array(polygons),225)          # drawing a polygon on the filter with white infill.\n",
        "  masked_image = cv2.bitwise_and(image,mask)    # Concatenating the mask with the original image using and operator\n",
        "  return masked_image"
      ],
      "metadata": {
        "trusted": true,
        "execution": {
          "iopub.status.busy": "2025-03-11T06:02:29.299439Z",
          "iopub.execute_input": "2025-03-11T06:02:29.299825Z",
          "iopub.status.idle": "2025-03-11T06:02:29.305412Z",
          "shell.execute_reply.started": "2025-03-11T06:02:29.299794Z",
          "shell.execute_reply": "2025-03-11T06:02:29.304053Z"
        },
        "id": "FpV57McWzU49"
      },
      "outputs": [],
      "execution_count": null
    },
    {
      "cell_type": "code",
      "source": [
        "def make_points(image,line):\n",
        "  slope,intercept = line\n",
        "  y1 = int(image.shape[0])\n",
        "  y2 = int(y1*3.0/5)\n",
        "  x1 = int((y1-intercept)/slope)\n",
        "  x2 = int((y2-intercept)/slope)\n",
        "  return [[x1,y1,x2,y2]]"
      ],
      "metadata": {
        "trusted": true,
        "execution": {
          "iopub.status.busy": "2025-03-11T06:02:30.811179Z",
          "iopub.execute_input": "2025-03-11T06:02:30.811521Z",
          "iopub.status.idle": "2025-03-11T06:02:30.816835Z",
          "shell.execute_reply.started": "2025-03-11T06:02:30.811495Z",
          "shell.execute_reply": "2025-03-11T06:02:30.815635Z"
        },
        "id": "DJSGxaYvzU49"
      },
      "outputs": [],
      "execution_count": null
    },
    {
      "cell_type": "code",
      "source": [
        "def average_slope_intercept(image,lines):\n",
        "  left_fit = []\n",
        "  right_fit = []\n",
        "  if lines is None:\n",
        "    return None\n",
        "  for line in lines:\n",
        "    for x1,y1,x2,y2 in line:\n",
        "      fit = np.polyfit((x1,x2),(y1,y2),1)\n",
        "      slope = fit[0]\n",
        "      intercept = fit[1]\n",
        "      if slope < 0:\n",
        "        left_fit.append((slope,intercept))\n",
        "      else:\n",
        "        right_fit.append((slope,intercept))\n",
        "  left_fit_average = np.average(left_fit,axis=0)\n",
        "  right_fit_average = np.average(right_fit,axis=0)\n",
        "  left_line = make_points(image,left_fit_average)\n",
        "  right_line = make_points(image,right_fit_average)\n",
        "  averaged_lines = [left_line,right_line]\n",
        "  return averaged_lines"
      ],
      "metadata": {
        "trusted": true,
        "execution": {
          "iopub.status.busy": "2025-03-11T06:02:33.723901Z",
          "iopub.execute_input": "2025-03-11T06:02:33.724313Z",
          "iopub.status.idle": "2025-03-11T06:02:33.731507Z",
          "shell.execute_reply.started": "2025-03-11T06:02:33.724284Z",
          "shell.execute_reply": "2025-03-11T06:02:33.730216Z"
        },
        "id": "RE2Kfx-KzU4-"
      },
      "outputs": [],
      "execution_count": null
    },
    {
      "cell_type": "code",
      "source": [
        "def display_lines(img,lines):\n",
        "  line_image = np.zeros_like(img)\n",
        "  if lines is not None:\n",
        "    for line in lines:\n",
        "      for x1,y1,x2,y2 in line:\n",
        "        cv2.line(line_image,(x1,y1),(x2,y2),(255,0,0),10)\n",
        "    return line_image"
      ],
      "metadata": {
        "trusted": true,
        "execution": {
          "iopub.status.busy": "2025-03-11T06:02:35.436308Z",
          "iopub.execute_input": "2025-03-11T06:02:35.436733Z",
          "iopub.status.idle": "2025-03-11T06:02:35.442707Z",
          "shell.execute_reply.started": "2025-03-11T06:02:35.436701Z",
          "shell.execute_reply": "2025-03-11T06:02:35.441463Z"
        },
        "id": "NYUWjv3yzU4_"
      },
      "outputs": [],
      "execution_count": null
    },
    {
      "cell_type": "code",
      "source": [
        "video_path = \"/kaggle/input/detecting-lane/test2.mp4\""
      ],
      "metadata": {
        "trusted": true,
        "execution": {
          "iopub.status.busy": "2025-03-11T06:02:36.986173Z",
          "iopub.execute_input": "2025-03-11T06:02:36.98651Z",
          "iopub.status.idle": "2025-03-11T06:02:36.990593Z",
          "shell.execute_reply.started": "2025-03-11T06:02:36.986486Z",
          "shell.execute_reply": "2025-03-11T06:02:36.989531Z"
        },
        "id": "H1jWktx8zU4_"
      },
      "outputs": [],
      "execution_count": null
    },
    {
      "cell_type": "code",
      "source": [
        "cap = cv2.VideoCapture(video_path)"
      ],
      "metadata": {
        "trusted": true,
        "execution": {
          "iopub.status.busy": "2025-03-11T06:02:41.602129Z",
          "iopub.execute_input": "2025-03-11T06:02:41.602494Z",
          "iopub.status.idle": "2025-03-11T06:02:41.665849Z",
          "shell.execute_reply.started": "2025-03-11T06:02:41.602469Z",
          "shell.execute_reply": "2025-03-11T06:02:41.664832Z"
        },
        "id": "YInqGAYwzU5A"
      },
      "outputs": [],
      "execution_count": null
    },
    {
      "cell_type": "code",
      "source": [
        "while(cap.isOpened()):\n",
        "      _, frame = cap.read()\n",
        "      canny_image = canny(frame)\n",
        "      cropped_image = region_of_intererst(canny_image)\n",
        "      lines = cv2.HoughLinesP(cropped_image,2,np.pi/180, 100 ,np.array([]),minLineLength=40,maxLineGap=5)\n",
        "      averaged_lines = average_slope_intercept(frame,lines)\n",
        "      line_image = display_lines(frame,averaged_lines)\n",
        "      combo_image = cv2.addWeighted(frame,0.8,line_image,1,1)\n",
        "      cv2.imshow(\"result\",combo_image)\n",
        "\n",
        "      if cv2.waitKey(1) & 0xFF == ord('q'):  # Break the loop if 'q' is pressed\n",
        "        break\n",
        "\n",
        "cap.release()\n",
        "cv2.destroyAllWindows()"
      ],
      "metadata": {
        "trusted": true,
        "execution": {
          "iopub.status.busy": "2025-03-11T06:02:44.798939Z",
          "iopub.execute_input": "2025-03-11T06:02:44.799352Z",
          "execution_failed": "2025-03-11T06:02:47.267Z"
        },
        "id": "JFPFBXyszU5A"
      },
      "outputs": [],
      "execution_count": null
    }
  ]
}